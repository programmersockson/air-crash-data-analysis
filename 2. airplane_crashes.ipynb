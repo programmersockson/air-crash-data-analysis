{
 "cells": [
  {
   "cell_type": "code",
   "execution_count": 1,
   "id": "6d4c1c17-0d48-4e20-ac0c-53b1f13a68ec",
   "metadata": {},
   "outputs": [],
   "source": [
    "import pandas as pd\n",
    "import numpy as np\n",
    "import matplotlib.pyplot as plt\n",
    "%matplotlib inline\n",
    "\n",
    "from tqdm.auto import tqdm\n",
    "tqdm.pandas()\n",
    "\n",
    "pd.set_option('max_colwidth', None)\n",
    "pd.set_option('display.width', None)\n",
    "\n",
    "import warnings\n",
    "warnings.filterwarnings(action='ignore', category=UserWarning)\n",
    "\n",
    "from sklearn.preprocessing import OneHotEncoder, MinMaxScaler"
   ]
  },
  {
   "cell_type": "code",
   "execution_count": 2,
   "id": "6f7ab830",
   "metadata": {},
   "outputs": [],
   "source": [
    "from sklearn.decomposition import PCA\n",
    "from umap import UMAP\n",
    "from hdbscan import HDBSCAN\n",
    "from sklearn.cluster import KMeans\n",
    "from sklearn.metrics import silhouette_score"
   ]
  },
  {
   "cell_type": "code",
   "execution_count": 3,
   "id": "cc4a322a-29d4-4739-be35-e951a9c214ce",
   "metadata": {},
   "outputs": [],
   "source": [
    "import string\n",
    "from nltk.corpus import stopwords\n",
    "from nltk.stem import WordNetLemmatizer\n",
    "import re\n",
    "\n",
    "STOPWORDS = set(stopwords.words('english'))\n",
    "PUNCT_TO_REMOVE = string.punctuation.replace(\"/\", \"\")\n",
    "lemmatizer = WordNetLemmatizer()\n",
    "\n",
    "\n",
    "def remove_numbers(text):\n",
    "    return re.sub(r'\\d+', '', text)\n",
    "\n",
    "\n",
    "def remove_stopwords(text):\n",
    "    return \" \".join([word for word in str(text).split() if word not in STOPWORDS])\n",
    "\n",
    "\n",
    "def remove_punctuation(text):\n",
    "    return text.translate(str.maketrans('', '', PUNCT_TO_REMOVE))\n",
    "\n",
    "\n",
    "def lemmatize_words(text):\n",
    "    return \" \".join([lemmatizer.lemmatize(word) for word in text.split()])\n",
    "\n",
    "\n",
    "def longest_word(s):\n",
    "    return max(s.split(), key=len)\n",
    "\n",
    "\n",
    "def longest_word_in_list(l):\n",
    "    try:\n",
    "        words_list = []\n",
    "        for s in l:\n",
    "            words = s.strip(\" /\").split()\n",
    "            words_list.append(max(words, key=len))\n",
    "    except Exception as e:\n",
    "        print(l)\n",
    "        raise e\n",
    "    return \" / \".join(words_list)\n",
    "\n",
    "\n",
    "def get_last(s):\n",
    "    return s.split()[-1]\n",
    "\n",
    "\n",
    "def target_encode(df: pd.DataFrame, group_col: str, target_col: str):\n",
    "    target_means = df.groupby(group_col)[target_col].mean().sort_values(ascending=True)\n",
    "    group_ranking = (target_means.rank() - target_means.rank().min()) / (target_means.rank() - target_means.rank().min()).max()\n",
    "    return group_ranking.to_dict()"
   ]
  },
  {
   "cell_type": "markdown",
   "id": "3084cb1d",
   "metadata": {},
   "source": [
    "# 1. Load data"
   ]
  },
  {
   "cell_type": "code",
   "execution_count": 4,
   "id": "bccd97d0-1982-4d75-8374-1b612e9bea3d",
   "metadata": {},
   "outputs": [
    {
     "data": {
      "text/html": [
       "<div>\n",
       "<style scoped>\n",
       "    .dataframe tbody tr th:only-of-type {\n",
       "        vertical-align: middle;\n",
       "    }\n",
       "\n",
       "    .dataframe tbody tr th {\n",
       "        vertical-align: top;\n",
       "    }\n",
       "\n",
       "    .dataframe thead th {\n",
       "        text-align: right;\n",
       "    }\n",
       "</style>\n",
       "<table border=\"1\" class=\"dataframe\">\n",
       "  <thead>\n",
       "    <tr style=\"text-align: right;\">\n",
       "      <th></th>\n",
       "      <th>Date</th>\n",
       "      <th>Location</th>\n",
       "      <th>Operator</th>\n",
       "      <th>Type</th>\n",
       "      <th>Aboard</th>\n",
       "      <th>Fatalities</th>\n",
       "      <th>Ground</th>\n",
       "      <th>Summary</th>\n",
       "    </tr>\n",
       "  </thead>\n",
       "  <tbody>\n",
       "    <tr>\n",
       "      <th>4830</th>\n",
       "      <td>2009-06-08</td>\n",
       "      <td>State of Arunachal Pradesh, India</td>\n",
       "      <td>Military - Indian Air Force</td>\n",
       "      <td>Antonov An-32</td>\n",
       "      <td>13.0</td>\n",
       "      <td>13.0</td>\n",
       "      <td>0.0</td>\n",
       "      <td>The military transport went missing while en route and might have crashed due to heavy rain in the mountainous region.</td>\n",
       "    </tr>\n",
       "  </tbody>\n",
       "</table>\n",
       "</div>"
      ],
      "text/plain": [
       "           Date                           Location  \\\n",
       "4830 2009-06-08  State of Arunachal Pradesh, India   \n",
       "\n",
       "                         Operator           Type  Aboard  Fatalities  Ground  \\\n",
       "4830  Military - Indian Air Force  Antonov An-32    13.0        13.0     0.0   \n",
       "\n",
       "                                                                                                                     Summary  \n",
       "4830  The military transport went missing while en route and might have crashed due to heavy rain in the mountainous region.  "
      ]
     },
     "execution_count": 4,
     "metadata": {},
     "output_type": "execute_result"
    }
   ],
   "source": [
    "crashes = pd.read_csv('data/clean_crashes.csv', \n",
    "                      usecols=['Date', 'Location', 'Operator', 'Type', 'Aboard', 'Fatalities', 'Ground', 'Summary'])\n",
    "crashes.Date = pd.to_datetime(crashes.Date)\n",
    "crashes.tail(1)"
   ]
  },
  {
   "cell_type": "markdown",
   "id": "98740f04",
   "metadata": {},
   "source": [
    "## 1.1. Get summary clusters"
   ]
  },
  {
   "cell_type": "code",
   "execution_count": 5,
   "id": "43a1a3fe",
   "metadata": {},
   "outputs": [
    {
     "data": {
      "text/html": [
       "<div>\n",
       "<style scoped>\n",
       "    .dataframe tbody tr th:only-of-type {\n",
       "        vertical-align: middle;\n",
       "    }\n",
       "\n",
       "    .dataframe tbody tr th {\n",
       "        vertical-align: top;\n",
       "    }\n",
       "\n",
       "    .dataframe thead th {\n",
       "        text-align: right;\n",
       "    }\n",
       "</style>\n",
       "<table border=\"1\" class=\"dataframe\">\n",
       "  <thead>\n",
       "    <tr style=\"text-align: right;\">\n",
       "      <th></th>\n",
       "      <th>Summary_Cluster</th>\n",
       "      <th>Summary_Cluster_name</th>\n",
       "    </tr>\n",
       "    <tr>\n",
       "      <th>Index</th>\n",
       "      <th></th>\n",
       "      <th></th>\n",
       "    </tr>\n",
       "  </thead>\n",
       "  <tbody>\n",
       "    <tr>\n",
       "      <th>4830</th>\n",
       "      <td>15</td>\n",
       "      <td>Disappeared en route</td>\n",
       "    </tr>\n",
       "  </tbody>\n",
       "</table>\n",
       "</div>"
      ],
      "text/plain": [
       "       Summary_Cluster  Summary_Cluster_name\n",
       "Index                                       \n",
       "4830                15  Disappeared en route"
      ]
     },
     "execution_count": 5,
     "metadata": {},
     "output_type": "execute_result"
    }
   ],
   "source": [
    "crashes_summary_clustered = pd.read_csv('data/clean_crashes.clustered_summary.csv', \n",
    "                                        sep='\\t', usecols=['Unnamed: 0','Cluster','Cluster_name'])\n",
    "crashes_summary_clustered = crashes_summary_clustered.rename(columns={'Unnamed: 0': \"Index\", \n",
    "                                                                      'Cluster': \"Summary_Cluster\", \n",
    "                                                                      'Cluster_name': \"Summary_Cluster_name\"})\n",
    "crashes_summary_clustered = crashes_summary_clustered.set_index('Index')\n",
    "crashes_summary_clustered.tail(1)"
   ]
  },
  {
   "cell_type": "code",
   "execution_count": 6,
   "id": "00e2d5e6",
   "metadata": {},
   "outputs": [
    {
     "data": {
      "text/html": [
       "<div>\n",
       "<style scoped>\n",
       "    .dataframe tbody tr th:only-of-type {\n",
       "        vertical-align: middle;\n",
       "    }\n",
       "\n",
       "    .dataframe tbody tr th {\n",
       "        vertical-align: top;\n",
       "    }\n",
       "\n",
       "    .dataframe thead th {\n",
       "        text-align: right;\n",
       "    }\n",
       "</style>\n",
       "<table border=\"1\" class=\"dataframe\">\n",
       "  <thead>\n",
       "    <tr style=\"text-align: right;\">\n",
       "      <th></th>\n",
       "      <th>Date</th>\n",
       "      <th>Location</th>\n",
       "      <th>Operator</th>\n",
       "      <th>Type</th>\n",
       "      <th>Aboard</th>\n",
       "      <th>Fatalities</th>\n",
       "      <th>Ground</th>\n",
       "      <th>Summary</th>\n",
       "      <th>Summary_Cluster</th>\n",
       "      <th>Summary_Cluster_name</th>\n",
       "    </tr>\n",
       "  </thead>\n",
       "  <tbody>\n",
       "    <tr>\n",
       "      <th>4830</th>\n",
       "      <td>2009-06-08</td>\n",
       "      <td>State of Arunachal Pradesh, India</td>\n",
       "      <td>Military - Indian Air Force</td>\n",
       "      <td>Antonov An-32</td>\n",
       "      <td>13.0</td>\n",
       "      <td>13.0</td>\n",
       "      <td>0.0</td>\n",
       "      <td>The military transport went missing while en route and might have crashed due to heavy rain in the mountainous region.</td>\n",
       "      <td>15</td>\n",
       "      <td>Disappeared en route</td>\n",
       "    </tr>\n",
       "  </tbody>\n",
       "</table>\n",
       "</div>"
      ],
      "text/plain": [
       "           Date                           Location  \\\n",
       "4830 2009-06-08  State of Arunachal Pradesh, India   \n",
       "\n",
       "                         Operator           Type  Aboard  Fatalities  Ground  \\\n",
       "4830  Military - Indian Air Force  Antonov An-32    13.0        13.0     0.0   \n",
       "\n",
       "                                                                                                                     Summary  \\\n",
       "4830  The military transport went missing while en route and might have crashed due to heavy rain in the mountainous region.   \n",
       "\n",
       "      Summary_Cluster  Summary_Cluster_name  \n",
       "4830               15  Disappeared en route  "
      ]
     },
     "execution_count": 6,
     "metadata": {},
     "output_type": "execute_result"
    }
   ],
   "source": [
    "crashes = crashes.join(crashes_summary_clustered)\n",
    "crashes.tail(1)"
   ]
  },
  {
   "cell_type": "markdown",
   "id": "88044621",
   "metadata": {},
   "source": [
    "# 2. Transform data"
   ]
  },
  {
   "cell_type": "markdown",
   "id": "35ed72ab",
   "metadata": {},
   "source": [
    "## Create 'Mortality' column"
   ]
  },
  {
   "cell_type": "code",
   "execution_count": 7,
   "id": "e3c3c9a7",
   "metadata": {},
   "outputs": [
    {
     "data": {
      "text/html": [
       "<div>\n",
       "<style scoped>\n",
       "    .dataframe tbody tr th:only-of-type {\n",
       "        vertical-align: middle;\n",
       "    }\n",
       "\n",
       "    .dataframe tbody tr th {\n",
       "        vertical-align: top;\n",
       "    }\n",
       "\n",
       "    .dataframe thead th {\n",
       "        text-align: right;\n",
       "    }\n",
       "</style>\n",
       "<table border=\"1\" class=\"dataframe\">\n",
       "  <thead>\n",
       "    <tr style=\"text-align: right;\">\n",
       "      <th></th>\n",
       "      <th>Date</th>\n",
       "      <th>Location</th>\n",
       "      <th>Operator</th>\n",
       "      <th>Type</th>\n",
       "      <th>Aboard</th>\n",
       "      <th>Fatalities</th>\n",
       "      <th>Ground</th>\n",
       "      <th>Summary</th>\n",
       "      <th>Summary_Cluster</th>\n",
       "      <th>Summary_Cluster_name</th>\n",
       "      <th>mortality</th>\n",
       "    </tr>\n",
       "  </thead>\n",
       "  <tbody>\n",
       "    <tr>\n",
       "      <th>4829</th>\n",
       "      <td>2009-06-07</td>\n",
       "      <td>Near Port Hope Simpson, Newfoundland, Canada</td>\n",
       "      <td>Strait Air</td>\n",
       "      <td>Britten-Norman BN-2A-27 Islander</td>\n",
       "      <td>1.0</td>\n",
       "      <td>1.0</td>\n",
       "      <td>0.0</td>\n",
       "      <td>The air ambulance crashed into hills while attempting to land in heavy fog about 4 miles from the airport.</td>\n",
       "      <td>13</td>\n",
       "      <td>Fog</td>\n",
       "      <td>1.0</td>\n",
       "    </tr>\n",
       "    <tr>\n",
       "      <th>4830</th>\n",
       "      <td>2009-06-08</td>\n",
       "      <td>State of Arunachal Pradesh, India</td>\n",
       "      <td>Military - Indian Air Force</td>\n",
       "      <td>Antonov An-32</td>\n",
       "      <td>13.0</td>\n",
       "      <td>13.0</td>\n",
       "      <td>0.0</td>\n",
       "      <td>The military transport went missing while en route and might have crashed due to heavy rain in the mountainous region.</td>\n",
       "      <td>15</td>\n",
       "      <td>Disappeared en route</td>\n",
       "      <td>1.0</td>\n",
       "    </tr>\n",
       "  </tbody>\n",
       "</table>\n",
       "</div>"
      ],
      "text/plain": [
       "           Date                                      Location  \\\n",
       "4829 2009-06-07  Near Port Hope Simpson, Newfoundland, Canada   \n",
       "4830 2009-06-08             State of Arunachal Pradesh, India   \n",
       "\n",
       "                         Operator                              Type  Aboard  \\\n",
       "4829                   Strait Air  Britten-Norman BN-2A-27 Islander     1.0   \n",
       "4830  Military - Indian Air Force                     Antonov An-32    13.0   \n",
       "\n",
       "      Fatalities  Ground  \\\n",
       "4829         1.0     0.0   \n",
       "4830        13.0     0.0   \n",
       "\n",
       "                                                                                                                     Summary  \\\n",
       "4829              The air ambulance crashed into hills while attempting to land in heavy fog about 4 miles from the airport.   \n",
       "4830  The military transport went missing while en route and might have crashed due to heavy rain in the mountainous region.   \n",
       "\n",
       "      Summary_Cluster  Summary_Cluster_name  mortality  \n",
       "4829               13                   Fog        1.0  \n",
       "4830               15  Disappeared en route        1.0  "
      ]
     },
     "execution_count": 7,
     "metadata": {},
     "output_type": "execute_result"
    }
   ],
   "source": [
    "crashes['mortality'] = crashes.apply(lambda row: round(row.Fatalities / row.Aboard, 2) if row.Aboard != 0 else 0, axis=1)\n",
    "crashes.tail(2)"
   ]
  },
  {
   "cell_type": "code",
   "execution_count": 8,
   "id": "0e24b72d",
   "metadata": {
    "scrolled": false
   },
   "outputs": [
    {
     "data": {
      "text/plain": [
       "(0.8284, 0.3047)"
      ]
     },
     "execution_count": 8,
     "metadata": {},
     "output_type": "execute_result"
    }
   ],
   "source": [
    "round(crashes.mortality.mean(), 4),  round(crashes.mortality.std(), 4)"
   ]
  },
  {
   "cell_type": "markdown",
   "id": "f65bec61",
   "metadata": {},
   "source": [
    "## Create 'Military plane' column"
   ]
  },
  {
   "cell_type": "code",
   "execution_count": 9,
   "id": "5b05c5f6",
   "metadata": {
    "scrolled": false
   },
   "outputs": [
    {
     "data": {
      "text/html": [
       "<div>\n",
       "<style scoped>\n",
       "    .dataframe tbody tr th:only-of-type {\n",
       "        vertical-align: middle;\n",
       "    }\n",
       "\n",
       "    .dataframe tbody tr th {\n",
       "        vertical-align: top;\n",
       "    }\n",
       "\n",
       "    .dataframe thead th {\n",
       "        text-align: right;\n",
       "    }\n",
       "</style>\n",
       "<table border=\"1\" class=\"dataframe\">\n",
       "  <thead>\n",
       "    <tr style=\"text-align: right;\">\n",
       "      <th></th>\n",
       "      <th>Date</th>\n",
       "      <th>Location</th>\n",
       "      <th>Operator</th>\n",
       "      <th>Type</th>\n",
       "      <th>Aboard</th>\n",
       "      <th>Fatalities</th>\n",
       "      <th>Ground</th>\n",
       "      <th>Summary</th>\n",
       "      <th>Summary_Cluster</th>\n",
       "      <th>Summary_Cluster_name</th>\n",
       "      <th>mortality</th>\n",
       "      <th>is_military</th>\n",
       "    </tr>\n",
       "  </thead>\n",
       "  <tbody>\n",
       "    <tr>\n",
       "      <th>4829</th>\n",
       "      <td>2009-06-07</td>\n",
       "      <td>Near Port Hope Simpson, Newfoundland, Canada</td>\n",
       "      <td>Strait Air</td>\n",
       "      <td>Britten-Norman BN-2A-27 Islander</td>\n",
       "      <td>1.0</td>\n",
       "      <td>1.0</td>\n",
       "      <td>0.0</td>\n",
       "      <td>The air ambulance crashed into hills while attempting to land in heavy fog about 4 miles from the airport.</td>\n",
       "      <td>13</td>\n",
       "      <td>Fog</td>\n",
       "      <td>1.0</td>\n",
       "      <td>False</td>\n",
       "    </tr>\n",
       "    <tr>\n",
       "      <th>4830</th>\n",
       "      <td>2009-06-08</td>\n",
       "      <td>State of Arunachal Pradesh, India</td>\n",
       "      <td>Military - Indian Air Force</td>\n",
       "      <td>Antonov An-32</td>\n",
       "      <td>13.0</td>\n",
       "      <td>13.0</td>\n",
       "      <td>0.0</td>\n",
       "      <td>The military transport went missing while en route and might have crashed due to heavy rain in the mountainous region.</td>\n",
       "      <td>15</td>\n",
       "      <td>Disappeared en route</td>\n",
       "      <td>1.0</td>\n",
       "      <td>True</td>\n",
       "    </tr>\n",
       "  </tbody>\n",
       "</table>\n",
       "</div>"
      ],
      "text/plain": [
       "           Date                                      Location  \\\n",
       "4829 2009-06-07  Near Port Hope Simpson, Newfoundland, Canada   \n",
       "4830 2009-06-08             State of Arunachal Pradesh, India   \n",
       "\n",
       "                         Operator                              Type  Aboard  \\\n",
       "4829                   Strait Air  Britten-Norman BN-2A-27 Islander     1.0   \n",
       "4830  Military - Indian Air Force                     Antonov An-32    13.0   \n",
       "\n",
       "      Fatalities  Ground  \\\n",
       "4829         1.0     0.0   \n",
       "4830        13.0     0.0   \n",
       "\n",
       "                                                                                                                     Summary  \\\n",
       "4829              The air ambulance crashed into hills while attempting to land in heavy fog about 4 miles from the airport.   \n",
       "4830  The military transport went missing while en route and might have crashed due to heavy rain in the mountainous region.   \n",
       "\n",
       "      Summary_Cluster  Summary_Cluster_name  mortality  is_military  \n",
       "4829               13                   Fog        1.0        False  \n",
       "4830               15  Disappeared en route        1.0         True  "
      ]
     },
     "execution_count": 9,
     "metadata": {},
     "output_type": "execute_result"
    }
   ],
   "source": [
    "crashes['is_military'] = crashes.Operator.str.lower().str.contains(\"army|navy|military|force|marine|corps\")\n",
    "crashes.tail(2)"
   ]
  },
  {
   "cell_type": "code",
   "execution_count": 10,
   "id": "1f575f8a",
   "metadata": {
    "scrolled": false
   },
   "outputs": [
    {
     "data": {
      "text/plain": [
       "(0.153, 0.36)"
      ]
     },
     "execution_count": 10,
     "metadata": {},
     "output_type": "execute_result"
    }
   ],
   "source": [
    "round(crashes.is_military.mean(), 4),  round(crashes.is_military.std(), 4)"
   ]
  },
  {
   "cell_type": "markdown",
   "id": "4207a9cf-e69e-41d0-a5f1-6812da046da9",
   "metadata": {},
   "source": [
    "## Type column"
   ]
  },
  {
   "cell_type": "code",
   "execution_count": 11,
   "id": "78d6ff5a",
   "metadata": {},
   "outputs": [],
   "source": [
    "replacement = {'helicopters': 'helicopter',\n",
    "#                \"ilushin\": \"ilyushin\",\n",
    "#                \"illyushin\": \"ilyushin\",\n",
    "#                \"iluyshin\": \"ilyushin\",\n",
    "#                \"illyushin\": \"ilyushin\",\n",
    "#                \"ilysushin\": \"ilyushin\"\n",
    "              }"
   ]
  },
  {
   "cell_type": "code",
   "execution_count": 12,
   "id": "a543e69a-6693-441f-a995-ae177295c6e1",
   "metadata": {
    "scrolled": false
   },
   "outputs": [],
   "source": [
    "crashes.Type = crashes.Type.str.lower()\n",
    "crashes.Type = crashes.Type.replace(replacement)\n",
    "# crashes.Type.value_counts()"
   ]
  },
  {
   "cell_type": "code",
   "execution_count": 13,
   "id": "154c5984",
   "metadata": {},
   "outputs": [
    {
     "data": {
      "application/vnd.jupyter.widget-view+json": {
       "model_id": "9a0c941c0c7a41498795864fda854b77",
       "version_major": 2,
       "version_minor": 0
      },
      "text/plain": [
       "  0%|          | 0/4831 [00:00<?, ?it/s]"
      ]
     },
     "metadata": {},
     "output_type": "display_data"
    }
   ],
   "source": [
    "crashes['plane_series'] = crashes.Type.apply(remove_numbers)\n",
    "crashes.plane_series = crashes.plane_series.apply(remove_punctuation)\n",
    "crashes.plane_series = crashes.plane_series.str.strip(\" /.,\")\n",
    "crashes.plane_series = crashes.plane_series.str.split(\"/\").progress_apply(lambda x: longest_word_in_list(x))"
   ]
  },
  {
   "cell_type": "code",
   "execution_count": 14,
   "id": "6659a95a",
   "metadata": {
    "scrolled": true
   },
   "outputs": [
    {
     "data": {
      "text/plain": [
       "douglas       895\n",
       "boeing        314\n",
       "havilland     244\n",
       "lockheed      242\n",
       "antonov       230\n",
       "cessna        175\n",
       "mcdonnell     120\n",
       "beechcraft    116\n",
       "curtiss       111\n",
       "piper          95\n",
       "Name: plane_series, dtype: int64"
      ]
     },
     "execution_count": 14,
     "metadata": {},
     "output_type": "execute_result"
    }
   ],
   "source": [
    "crashes.plane_series.value_counts().head(10)  # mcdonnell = douglas ?"
   ]
  },
  {
   "cell_type": "code",
   "execution_count": 15,
   "id": "2fca209c",
   "metadata": {},
   "outputs": [
    {
     "data": {
      "application/vnd.jupyter.widget-view+json": {
       "model_id": "1d7c58181c1c41e2914d935a9e30cf58",
       "version_major": 2,
       "version_minor": 0
      },
      "text/plain": [
       "  0%|          | 0/4831 [00:00<?, ?it/s]"
      ]
     },
     "metadata": {},
     "output_type": "display_data"
    },
    {
     "data": {
      "text/html": [
       "<div>\n",
       "<style scoped>\n",
       "    .dataframe tbody tr th:only-of-type {\n",
       "        vertical-align: middle;\n",
       "    }\n",
       "\n",
       "    .dataframe tbody tr th {\n",
       "        vertical-align: top;\n",
       "    }\n",
       "\n",
       "    .dataframe thead th {\n",
       "        text-align: right;\n",
       "    }\n",
       "</style>\n",
       "<table border=\"1\" class=\"dataframe\">\n",
       "  <thead>\n",
       "    <tr style=\"text-align: right;\">\n",
       "      <th></th>\n",
       "      <th>Date</th>\n",
       "      <th>Location</th>\n",
       "      <th>Operator</th>\n",
       "      <th>Type</th>\n",
       "      <th>Aboard</th>\n",
       "      <th>Fatalities</th>\n",
       "      <th>Ground</th>\n",
       "      <th>Summary</th>\n",
       "      <th>Summary_Cluster</th>\n",
       "      <th>Summary_Cluster_name</th>\n",
       "      <th>mortality</th>\n",
       "      <th>is_military</th>\n",
       "      <th>plane_series</th>\n",
       "      <th>series_encoded</th>\n",
       "    </tr>\n",
       "  </thead>\n",
       "  <tbody>\n",
       "    <tr>\n",
       "      <th>4829</th>\n",
       "      <td>2009-06-07</td>\n",
       "      <td>Near Port Hope Simpson, Newfoundland, Canada</td>\n",
       "      <td>Strait Air</td>\n",
       "      <td>britten-norman bn-2a-27 islander</td>\n",
       "      <td>1.0</td>\n",
       "      <td>1.0</td>\n",
       "      <td>0.0</td>\n",
       "      <td>The air ambulance crashed into hills while attempting to land in heavy fog about 4 miles from the airport.</td>\n",
       "      <td>13</td>\n",
       "      <td>Fog</td>\n",
       "      <td>1.0</td>\n",
       "      <td>False</td>\n",
       "      <td>brittennorman</td>\n",
       "      <td>0.361963</td>\n",
       "    </tr>\n",
       "    <tr>\n",
       "      <th>4830</th>\n",
       "      <td>2009-06-08</td>\n",
       "      <td>State of Arunachal Pradesh, India</td>\n",
       "      <td>Military - Indian Air Force</td>\n",
       "      <td>antonov an-32</td>\n",
       "      <td>13.0</td>\n",
       "      <td>13.0</td>\n",
       "      <td>0.0</td>\n",
       "      <td>The military transport went missing while en route and might have crashed due to heavy rain in the mountainous region.</td>\n",
       "      <td>15</td>\n",
       "      <td>Disappeared en route</td>\n",
       "      <td>1.0</td>\n",
       "      <td>True</td>\n",
       "      <td>antonov</td>\n",
       "      <td>0.453988</td>\n",
       "    </tr>\n",
       "  </tbody>\n",
       "</table>\n",
       "</div>"
      ],
      "text/plain": [
       "           Date                                      Location  \\\n",
       "4829 2009-06-07  Near Port Hope Simpson, Newfoundland, Canada   \n",
       "4830 2009-06-08             State of Arunachal Pradesh, India   \n",
       "\n",
       "                         Operator                              Type  Aboard  \\\n",
       "4829                   Strait Air  britten-norman bn-2a-27 islander     1.0   \n",
       "4830  Military - Indian Air Force                     antonov an-32    13.0   \n",
       "\n",
       "      Fatalities  Ground  \\\n",
       "4829         1.0     0.0   \n",
       "4830        13.0     0.0   \n",
       "\n",
       "                                                                                                                     Summary  \\\n",
       "4829              The air ambulance crashed into hills while attempting to land in heavy fog about 4 miles from the airport.   \n",
       "4830  The military transport went missing while en route and might have crashed due to heavy rain in the mountainous region.   \n",
       "\n",
       "      Summary_Cluster  Summary_Cluster_name  mortality  is_military  \\\n",
       "4829               13                   Fog        1.0        False   \n",
       "4830               15  Disappeared en route        1.0         True   \n",
       "\n",
       "       plane_series  series_encoded  \n",
       "4829  brittennorman        0.361963  \n",
       "4830        antonov        0.453988  "
      ]
     },
     "execution_count": 15,
     "metadata": {},
     "output_type": "execute_result"
    }
   ],
   "source": [
    "series_encoding_dict = target_encode(crashes, group_col='plane_series', target_col='mortality')\n",
    "crashes['series_encoded'] = crashes.plane_series.progress_apply(lambda x: series_encoding_dict[x])\n",
    "crashes.tail(2)"
   ]
  },
  {
   "cell_type": "markdown",
   "id": "dc32a302-27ee-49f4-b52e-ed27d3553074",
   "metadata": {},
   "source": [
    "## Location column"
   ]
  },
  {
   "cell_type": "code",
   "execution_count": 16,
   "id": "1e90bcc6",
   "metadata": {},
   "outputs": [],
   "source": [
    "replacements = {  # what am i doing with my life\n",
    "    'ussr': 'russia',\n",
    "    'russian': 'russia',\n",
    "    'minnisota': 'minnesota',\n",
    "    'islands': 'island',\n",
    "    'atlantiocean': 'ocean',\n",
    "    'pacifiocean': 'ocean',\n",
    "    'atlantic': 'ocean',\n",
    "    'baltisea': 'sea',\n",
    "    'democratirepublicongo': 'congo',\n",
    "    'democratirepublicogo': 'congo',\n",
    "    'democtratirepublicongo': 'congo',\n",
    "    'democratirepubliof congo': 'congo',\n",
    "    'somalia': 'somali',\n",
    "    'somaliland': 'somali',\n",
    "    'massachusett': 'massachusetts',\n",
    "    'massachutes': 'massachusetts',\n",
    "    'alaksa': 'alaska',\n",
    "    'alakska': 'alaska',\n",
    "    'nwtcanada': 'canada',\n",
    "    'quebecanada': 'canada',\n",
    "    'indochina': 'vietnam',\n",
    "    'washingon': 'washington',\n",
    "    'inodnesia': 'indonesia',\n",
    "    'indian': 'india',\n",
    "    'airzona': 'arizona',\n",
    "    'baangladesh': 'bangladesh',\n",
    "    'aregntina': 'argentina',\n",
    "    'jamacia': 'jamaica',\n",
    "    'napal': 'nepal',\n",
    "    'afghanstan': 'afghanistan',\n",
    "    'dekota': 'dakota',\n",
    "    'calilfornia': 'california',\n",
    "    'cailifornia': 'california',\n",
    "    'yugosalvia': 'yugoslavia',\n",
    "    'thilandd': 'thailand',\n",
    "    'thiland': 'thailand',\n",
    "    'besarthailand': 'thailand',\n",
    "    'iloilophilippines': 'philippines',\n",
    "    'philipines': 'philippines',\n",
    "    'moscow': 'russia',\n",
    "    'bulgeria': 'bulgaria',\n",
    "    'oklohoma': 'oklahoma',\n",
    "    'romainia': 'romania',\n",
    "    'ilinois': 'illinois',\n",
    "    'herzegovina': 'bosniaherzegovina',\n",
    "    'coloado': 'colorado',\n",
    "    'louisana': 'louisiana',\n",
    "    'stromfjordgreenland': 'greenland',\n",
    "    'labrador': 'canada',\n",
    "    'arazona': 'arizona',\n",
    "    'alalaskaska': 'alaska',\n",
    "    'reunion': 'union',\n",
    "    'tonkindiadia': 'india',\n",
    "    'tonkindia': 'india',\n",
    "    'dc': 'columbia',\n",
    "    'ak': 'alaska',\n",
    "    'ca': 'canada',\n",
    "    'uk': 'kingdom',\n",
    "    'ga': 'georgia',\n",
    "    'nag': 'india',\n",
    "    'in': 'india',\n",
    "    'ny': 'york',\n",
    "    'bo': 'bolivia',\n",
    "    'hi': 'hawaii',\n",
    "    'boliva': 'bolivia',\n",
    "    'bugaria': 'bulgaria',\n",
    "    'columbia': 'colombia',\n",
    "    'cameroons': 'cameroon',\n",
    "    'deleware': 'delaware',\n",
    "    'djbouti': 'djibouti',\n",
    "    'england': 'kingdom',\n",
    "    'indies': 'indonesia',\n",
    "    'malaya': 'malaysia',\n",
    "    'mauritania': 'mauretania',\n",
    "    'morroco': 'morocco',\n",
    "    'morrocco': 'morocco',\n",
    "    'phillipines': 'philippines',\n",
    "    'rico': 'rica',\n",
    "    'surinam': 'suriname',\n",
    "    'wisconson': 'wisconsin'\n",
    "}"
   ]
  },
  {
   "cell_type": "code",
   "execution_count": 17,
   "id": "270a51da",
   "metadata": {
    "scrolled": true
   },
   "outputs": [
    {
     "data": {
      "text/html": [
       "<div>\n",
       "<style scoped>\n",
       "    .dataframe tbody tr th:only-of-type {\n",
       "        vertical-align: middle;\n",
       "    }\n",
       "\n",
       "    .dataframe tbody tr th {\n",
       "        vertical-align: top;\n",
       "    }\n",
       "\n",
       "    .dataframe thead th {\n",
       "        text-align: right;\n",
       "    }\n",
       "</style>\n",
       "<table border=\"1\" class=\"dataframe\">\n",
       "  <thead>\n",
       "    <tr style=\"text-align: right;\">\n",
       "      <th></th>\n",
       "      <th>Date</th>\n",
       "      <th>Location</th>\n",
       "      <th>Operator</th>\n",
       "      <th>Type</th>\n",
       "      <th>Aboard</th>\n",
       "      <th>Fatalities</th>\n",
       "      <th>Ground</th>\n",
       "      <th>Summary</th>\n",
       "      <th>Summary_Cluster</th>\n",
       "      <th>Summary_Cluster_name</th>\n",
       "      <th>mortality</th>\n",
       "      <th>is_military</th>\n",
       "      <th>plane_series</th>\n",
       "      <th>series_encoded</th>\n",
       "      <th>loc_clean</th>\n",
       "    </tr>\n",
       "  </thead>\n",
       "  <tbody>\n",
       "    <tr>\n",
       "      <th>4829</th>\n",
       "      <td>2009-06-07</td>\n",
       "      <td>Near Port Hope Simpson, Newfoundland, Canada</td>\n",
       "      <td>Strait Air</td>\n",
       "      <td>britten-norman bn-2a-27 islander</td>\n",
       "      <td>1.0</td>\n",
       "      <td>1.0</td>\n",
       "      <td>0.0</td>\n",
       "      <td>The air ambulance crashed into hills while attempting to land in heavy fog about 4 miles from the airport.</td>\n",
       "      <td>13</td>\n",
       "      <td>Fog</td>\n",
       "      <td>1.0</td>\n",
       "      <td>False</td>\n",
       "      <td>brittennorman</td>\n",
       "      <td>0.361963</td>\n",
       "      <td>canada</td>\n",
       "    </tr>\n",
       "    <tr>\n",
       "      <th>4830</th>\n",
       "      <td>2009-06-08</td>\n",
       "      <td>State of Arunachal Pradesh, India</td>\n",
       "      <td>Military - Indian Air Force</td>\n",
       "      <td>antonov an-32</td>\n",
       "      <td>13.0</td>\n",
       "      <td>13.0</td>\n",
       "      <td>0.0</td>\n",
       "      <td>The military transport went missing while en route and might have crashed due to heavy rain in the mountainous region.</td>\n",
       "      <td>15</td>\n",
       "      <td>Disappeared en route</td>\n",
       "      <td>1.0</td>\n",
       "      <td>True</td>\n",
       "      <td>antonov</td>\n",
       "      <td>0.453988</td>\n",
       "      <td>india</td>\n",
       "    </tr>\n",
       "  </tbody>\n",
       "</table>\n",
       "</div>"
      ],
      "text/plain": [
       "           Date                                      Location  \\\n",
       "4829 2009-06-07  Near Port Hope Simpson, Newfoundland, Canada   \n",
       "4830 2009-06-08             State of Arunachal Pradesh, India   \n",
       "\n",
       "                         Operator                              Type  Aboard  \\\n",
       "4829                   Strait Air  britten-norman bn-2a-27 islander     1.0   \n",
       "4830  Military - Indian Air Force                     antonov an-32    13.0   \n",
       "\n",
       "      Fatalities  Ground  \\\n",
       "4829         1.0     0.0   \n",
       "4830        13.0     0.0   \n",
       "\n",
       "                                                                                                                     Summary  \\\n",
       "4829              The air ambulance crashed into hills while attempting to land in heavy fog about 4 miles from the airport.   \n",
       "4830  The military transport went missing while en route and might have crashed due to heavy rain in the mountainous region.   \n",
       "\n",
       "      Summary_Cluster  Summary_Cluster_name  mortality  is_military  \\\n",
       "4829               13                   Fog        1.0        False   \n",
       "4830               15  Disappeared en route        1.0         True   \n",
       "\n",
       "       plane_series  series_encoded loc_clean  \n",
       "4829  brittennorman        0.361963    canada  \n",
       "4830        antonov        0.453988     india  "
      ]
     },
     "execution_count": 17,
     "metadata": {},
     "output_type": "execute_result"
    }
   ],
   "source": [
    "crashes['loc_clean'] = crashes.Location.apply(remove_numbers)\n",
    "crashes.loc_clean = crashes.loc_clean.apply(remove_punctuation)\n",
    "crashes.loc_clean = crashes.loc_clean.str.lower().str.strip()\n",
    "crashes.loc_clean = crashes.loc_clean.apply(get_last)\n",
    "crashes.loc_clean = crashes.loc_clean.replace(replacements)\n",
    "crashes.tail(2)"
   ]
  },
  {
   "cell_type": "markdown",
   "id": "b4a1fb87-df20-427f-a622-b5791240fb0a",
   "metadata": {},
   "source": [
    "## Operator column"
   ]
  },
  {
   "cell_type": "code",
   "execution_count": 18,
   "id": "caf768f6",
   "metadata": {},
   "outputs": [],
   "source": [
    "def clean_operator(input_text: str):\n",
    "    operators_ditry = input_text.split(\"/\")\n",
    "    operators = set()\n",
    "    for operator in operators_ditry:\n",
    "        operator = operator.strip()\n",
    "        operator = operator.replace(\".\", \"\")\n",
    "        operator = operator.replace(\"  \", \" \")\n",
    "        \n",
    "        operator = operator.replace(\"í\", \"i\")\n",
    "        operator = operator.replace(\"ú\", \"u\")\n",
    "        operator = operator.replace(\"é\", \"e\")\n",
    "        \n",
    "        operator = operator.replace(\"air taxi - \", \"\")\n",
    "        operator = operator.replace(\" - taxi\", \"\")\n",
    "        operator = operator.replace(\" - air taxi\", \"\")\n",
    "        operator = operator.replace(\"military - \", \"\")\n",
    "        operator = operator.replace(\"military -\", \"\")\n",
    "        operator = operator.replace(\"mililtary - \", \"\")\n",
    "        operator = operator.replace(\"military \", \"\")\n",
    "        operator = operator.replace(\"miltiary -\", \"\")\n",
    "        \n",
    "        operator = operator.replace(\"bhs - \", \"\")\n",
    "        operator = operator.replace(\" inc\", \"\")\n",
    "        operator = operator.replace(\"private - \", \"\")\n",
    "        operator = operator.replace(\"charter - \", \"\")\n",
    "        operator = operator.replace(\" - charter\", \"\")\n",
    "        \n",
    "        \n",
    "        operator = operator.replace(\"ecuadorean\", \"ecuadorian\")\n",
    "        operator = operator.replace(\"procuradoria\", \"procuraduria\")\n",
    "        operator = operator.replace(\"procurator\", \"procuraduria\")\n",
    "        operator = operator.replace(\"a b aerotransport\", \"ab aerotransport\")\n",
    "        operator = operator.replace(\"u s \", \"us \")\n",
    "        operator = operator.replace(\"\", \"\")\n",
    "        operator = operator.strip()\n",
    "        operators.add(operator)\n",
    "\n",
    "    return \" / \".join(operators)"
   ]
  },
  {
   "cell_type": "code",
   "execution_count": 19,
   "id": "403935a5-e948-40fd-bb4c-2b2234685eb7",
   "metadata": {
    "scrolled": true
   },
   "outputs": [
    {
     "data": {
      "text/html": [
       "<div>\n",
       "<style scoped>\n",
       "    .dataframe tbody tr th:only-of-type {\n",
       "        vertical-align: middle;\n",
       "    }\n",
       "\n",
       "    .dataframe tbody tr th {\n",
       "        vertical-align: top;\n",
       "    }\n",
       "\n",
       "    .dataframe thead th {\n",
       "        text-align: right;\n",
       "    }\n",
       "</style>\n",
       "<table border=\"1\" class=\"dataframe\">\n",
       "  <thead>\n",
       "    <tr style=\"text-align: right;\">\n",
       "      <th></th>\n",
       "      <th>Date</th>\n",
       "      <th>Location</th>\n",
       "      <th>Operator</th>\n",
       "      <th>Type</th>\n",
       "      <th>Aboard</th>\n",
       "      <th>Fatalities</th>\n",
       "      <th>Ground</th>\n",
       "      <th>Summary</th>\n",
       "      <th>Summary_Cluster</th>\n",
       "      <th>Summary_Cluster_name</th>\n",
       "      <th>mortality</th>\n",
       "      <th>is_military</th>\n",
       "      <th>plane_series</th>\n",
       "      <th>series_encoded</th>\n",
       "      <th>loc_clean</th>\n",
       "      <th>Operator_clean</th>\n",
       "    </tr>\n",
       "  </thead>\n",
       "  <tbody>\n",
       "    <tr>\n",
       "      <th>4829</th>\n",
       "      <td>2009-06-07</td>\n",
       "      <td>Near Port Hope Simpson, Newfoundland, Canada</td>\n",
       "      <td>strait air</td>\n",
       "      <td>britten-norman bn-2a-27 islander</td>\n",
       "      <td>1.0</td>\n",
       "      <td>1.0</td>\n",
       "      <td>0.0</td>\n",
       "      <td>The air ambulance crashed into hills while attempting to land in heavy fog about 4 miles from the airport.</td>\n",
       "      <td>13</td>\n",
       "      <td>Fog</td>\n",
       "      <td>1.0</td>\n",
       "      <td>False</td>\n",
       "      <td>brittennorman</td>\n",
       "      <td>0.361963</td>\n",
       "      <td>canada</td>\n",
       "      <td>strait air</td>\n",
       "    </tr>\n",
       "    <tr>\n",
       "      <th>4830</th>\n",
       "      <td>2009-06-08</td>\n",
       "      <td>State of Arunachal Pradesh, India</td>\n",
       "      <td>military - indian air force</td>\n",
       "      <td>antonov an-32</td>\n",
       "      <td>13.0</td>\n",
       "      <td>13.0</td>\n",
       "      <td>0.0</td>\n",
       "      <td>The military transport went missing while en route and might have crashed due to heavy rain in the mountainous region.</td>\n",
       "      <td>15</td>\n",
       "      <td>Disappeared en route</td>\n",
       "      <td>1.0</td>\n",
       "      <td>True</td>\n",
       "      <td>antonov</td>\n",
       "      <td>0.453988</td>\n",
       "      <td>india</td>\n",
       "      <td>indian air force</td>\n",
       "    </tr>\n",
       "  </tbody>\n",
       "</table>\n",
       "</div>"
      ],
      "text/plain": [
       "           Date                                      Location  \\\n",
       "4829 2009-06-07  Near Port Hope Simpson, Newfoundland, Canada   \n",
       "4830 2009-06-08             State of Arunachal Pradesh, India   \n",
       "\n",
       "                         Operator                              Type  Aboard  \\\n",
       "4829                   strait air  britten-norman bn-2a-27 islander     1.0   \n",
       "4830  military - indian air force                     antonov an-32    13.0   \n",
       "\n",
       "      Fatalities  Ground  \\\n",
       "4829         1.0     0.0   \n",
       "4830        13.0     0.0   \n",
       "\n",
       "                                                                                                                     Summary  \\\n",
       "4829              The air ambulance crashed into hills while attempting to land in heavy fog about 4 miles from the airport.   \n",
       "4830  The military transport went missing while en route and might have crashed due to heavy rain in the mountainous region.   \n",
       "\n",
       "      Summary_Cluster  Summary_Cluster_name  mortality  is_military  \\\n",
       "4829               13                   Fog        1.0        False   \n",
       "4830               15  Disappeared en route        1.0         True   \n",
       "\n",
       "       plane_series  series_encoded loc_clean    Operator_clean  \n",
       "4829  brittennorman        0.361963    canada        strait air  \n",
       "4830        antonov        0.453988     india  indian air force  "
      ]
     },
     "execution_count": 19,
     "metadata": {},
     "output_type": "execute_result"
    }
   ],
   "source": [
    "crashes.Operator = crashes.Operator.str.lower()\n",
    "crashes['Operator_clean'] = crashes.Operator.apply(lambda x: clean_operator(x))\n",
    "crashes.tail(2)"
   ]
  },
  {
   "cell_type": "code",
   "execution_count": 20,
   "id": "1653e324",
   "metadata": {
    "scrolled": true
   },
   "outputs": [
    {
     "data": {
      "text/plain": [
       "us air force                  180\n",
       "aeroflot                      166\n",
       "air france                     62\n",
       "royal air force                52\n",
       "deutsche lufthansa             50\n",
       "air taxi                       49\n",
       "united air lines               44\n",
       "us army air forces             44\n",
       "us navy                        42\n",
       "pan american world airways     41\n",
       "Name: Operator_clean, dtype: int64"
      ]
     },
     "execution_count": 20,
     "metadata": {},
     "output_type": "execute_result"
    }
   ],
   "source": [
    "crashes.Operator_clean.value_counts().head(10)"
   ]
  },
  {
   "cell_type": "code",
   "execution_count": 21,
   "id": "04e751ce-0c02-4e66-8b95-20564a6ed048",
   "metadata": {},
   "outputs": [],
   "source": [
    "# unio = crashes.Operator_clean.sort_values(ascending=True).unique()\n",
    "# unio[:100]"
   ]
  },
  {
   "cell_type": "markdown",
   "id": "c84cbea2",
   "metadata": {},
   "source": [
    "Let's encode rankings by mean death value of operator"
   ]
  },
  {
   "cell_type": "code",
   "execution_count": 22,
   "id": "49ef63a1",
   "metadata": {
    "scrolled": true
   },
   "outputs": [
    {
     "data": {
      "application/vnd.jupyter.widget-view+json": {
       "model_id": "30870709fd1a44b6bec08b2d48164377",
       "version_major": 2,
       "version_minor": 0
      },
      "text/plain": [
       "  0%|          | 0/4831 [00:00<?, ?it/s]"
      ]
     },
     "metadata": {},
     "output_type": "display_data"
    },
    {
     "data": {
      "text/html": [
       "<div>\n",
       "<style scoped>\n",
       "    .dataframe tbody tr th:only-of-type {\n",
       "        vertical-align: middle;\n",
       "    }\n",
       "\n",
       "    .dataframe tbody tr th {\n",
       "        vertical-align: top;\n",
       "    }\n",
       "\n",
       "    .dataframe thead th {\n",
       "        text-align: right;\n",
       "    }\n",
       "</style>\n",
       "<table border=\"1\" class=\"dataframe\">\n",
       "  <thead>\n",
       "    <tr style=\"text-align: right;\">\n",
       "      <th></th>\n",
       "      <th>Date</th>\n",
       "      <th>Location</th>\n",
       "      <th>Operator</th>\n",
       "      <th>Type</th>\n",
       "      <th>Aboard</th>\n",
       "      <th>Fatalities</th>\n",
       "      <th>Ground</th>\n",
       "      <th>Summary</th>\n",
       "      <th>Summary_Cluster</th>\n",
       "      <th>Summary_Cluster_name</th>\n",
       "      <th>mortality</th>\n",
       "      <th>is_military</th>\n",
       "      <th>plane_series</th>\n",
       "      <th>series_encoded</th>\n",
       "      <th>loc_clean</th>\n",
       "      <th>Operator_clean</th>\n",
       "      <th>operator_encoded</th>\n",
       "    </tr>\n",
       "  </thead>\n",
       "  <tbody>\n",
       "    <tr>\n",
       "      <th>4829</th>\n",
       "      <td>2009-06-07</td>\n",
       "      <td>Near Port Hope Simpson, Newfoundland, Canada</td>\n",
       "      <td>strait air</td>\n",
       "      <td>britten-norman bn-2a-27 islander</td>\n",
       "      <td>1.0</td>\n",
       "      <td>1.0</td>\n",
       "      <td>0.0</td>\n",
       "      <td>The air ambulance crashed into hills while attempting to land in heavy fog about 4 miles from the airport.</td>\n",
       "      <td>13</td>\n",
       "      <td>Fog</td>\n",
       "      <td>1.0</td>\n",
       "      <td>False</td>\n",
       "      <td>brittennorman</td>\n",
       "      <td>0.361963</td>\n",
       "      <td>canada</td>\n",
       "      <td>strait air</td>\n",
       "      <td>1.000000</td>\n",
       "    </tr>\n",
       "    <tr>\n",
       "      <th>4830</th>\n",
       "      <td>2009-06-08</td>\n",
       "      <td>State of Arunachal Pradesh, India</td>\n",
       "      <td>military - indian air force</td>\n",
       "      <td>antonov an-32</td>\n",
       "      <td>13.0</td>\n",
       "      <td>13.0</td>\n",
       "      <td>0.0</td>\n",
       "      <td>The military transport went missing while en route and might have crashed due to heavy rain in the mountainous region.</td>\n",
       "      <td>15</td>\n",
       "      <td>Disappeared en route</td>\n",
       "      <td>1.0</td>\n",
       "      <td>True</td>\n",
       "      <td>antonov</td>\n",
       "      <td>0.453988</td>\n",
       "      <td>india</td>\n",
       "      <td>indian air force</td>\n",
       "      <td>0.520833</td>\n",
       "    </tr>\n",
       "  </tbody>\n",
       "</table>\n",
       "</div>"
      ],
      "text/plain": [
       "           Date                                      Location  \\\n",
       "4829 2009-06-07  Near Port Hope Simpson, Newfoundland, Canada   \n",
       "4830 2009-06-08             State of Arunachal Pradesh, India   \n",
       "\n",
       "                         Operator                              Type  Aboard  \\\n",
       "4829                   strait air  britten-norman bn-2a-27 islander     1.0   \n",
       "4830  military - indian air force                     antonov an-32    13.0   \n",
       "\n",
       "      Fatalities  Ground  \\\n",
       "4829         1.0     0.0   \n",
       "4830        13.0     0.0   \n",
       "\n",
       "                                                                                                                     Summary  \\\n",
       "4829              The air ambulance crashed into hills while attempting to land in heavy fog about 4 miles from the airport.   \n",
       "4830  The military transport went missing while en route and might have crashed due to heavy rain in the mountainous region.   \n",
       "\n",
       "      Summary_Cluster  Summary_Cluster_name  mortality  is_military  \\\n",
       "4829               13                   Fog        1.0        False   \n",
       "4830               15  Disappeared en route        1.0         True   \n",
       "\n",
       "       plane_series  series_encoded loc_clean    Operator_clean  \\\n",
       "4829  brittennorman        0.361963    canada        strait air   \n",
       "4830        antonov        0.453988     india  indian air force   \n",
       "\n",
       "      operator_encoded  \n",
       "4829          1.000000  \n",
       "4830          0.520833  "
      ]
     },
     "execution_count": 22,
     "metadata": {},
     "output_type": "execute_result"
    }
   ],
   "source": [
    "operator_encoding_dict = target_encode(crashes, 'Operator_clean', 'mortality')\n",
    "crashes['operator_encoded'] = crashes.Operator_clean.progress_apply(lambda x: operator_encoding_dict[x])\n",
    "crashes.tail(2)"
   ]
  },
  {
   "cell_type": "markdown",
   "id": "2ed7e868",
   "metadata": {},
   "source": [
    "## Date column (removed)"
   ]
  },
  {
   "cell_type": "code",
   "execution_count": 23,
   "id": "d176746b",
   "metadata": {},
   "outputs": [],
   "source": [
    "# crashes['date_year'] = crashes.Date.dt.year\n",
    "# crashes['date_month'] = crashes.Date.dt.month\n",
    "# crashes['date_day'] = crashes.Date.dt.day\n",
    "# crashes['date_day_of_week'] = crashes.Date.dt.day_of_week\n",
    "# crashes['date_day_of_year'] = crashes.Date.dt.day_of_year\n",
    "\n",
    "# crashes[['Date', 'date_year', 'date_month', 'date_day', 'date_day_of_week', 'date_day_of_year']].tail(1)"
   ]
  },
  {
   "cell_type": "code",
   "execution_count": 24,
   "id": "28ef05bf",
   "metadata": {},
   "outputs": [],
   "source": [
    "# crashes['Date_is_year_start'] = crashes.Date.dt.is_year_start\n",
    "# crashes['Date_is_quarter_start'] = crashes.Date.dt.is_quarter_start\n",
    "# crashes['Date_is_month_start'] = crashes.Date.dt.is_month_start\n",
    "# crashes['Date_is_month_end'] = crashes.Date.dt.is_month_end\n",
    "\n",
    "# crashes[['Date_is_year_start', 'Date_is_quarter_start', 'Date_is_month_start', 'Date_is_month_end']].tail(1)"
   ]
  },
  {
   "cell_type": "code",
   "execution_count": 25,
   "id": "9f9125e2",
   "metadata": {},
   "outputs": [],
   "source": [
    "# crashes['Date_is_weekend'] = np.where(crashes['date_day_of_week'].isin([5,6]), 1,0)\n",
    "# crashes[['Date','date_day_of_week','Date_is_weekend']].tail(1)"
   ]
  },
  {
   "cell_type": "markdown",
   "id": "6fde4315",
   "metadata": {},
   "source": [
    "## Categorize by plane size"
   ]
  },
  {
   "cell_type": "code",
   "execution_count": 26,
   "id": "a9d01007",
   "metadata": {},
   "outputs": [
    {
     "data": {
      "text/plain": [
       "<AxesSubplot:>"
      ]
     },
     "execution_count": 26,
     "metadata": {},
     "output_type": "execute_result"
    },
    {
     "data": {
      "image/png": "[encoded data removed]",
      "text/plain": [
       "<Figure size 100x300 with 1 Axes>"
      ]
     },
     "metadata": {},
     "output_type": "display_data"
    }
   ],
   "source": [
    "crashes.boxplot(['Aboard'], figsize=(1,3))"
   ]
  },
  {
   "cell_type": "code",
   "execution_count": 27,
   "id": "584d1592",
   "metadata": {
    "scrolled": false
   },
   "outputs": [
    {
     "data": {
      "text/plain": [
       "array([[<AxesSubplot:title={'center':'Aboard'}>]], dtype=object)"
      ]
     },
     "execution_count": 27,
     "metadata": {},
     "output_type": "execute_result"
    },
    {
     "data": {
      "image/png": "[encoded data removed]",
      "text/plain": [
       "<Figure size 1000x200 with 1 Axes>"
      ]
     },
     "metadata": {},
     "output_type": "display_data"
    }
   ],
   "source": [
    "crashes.hist('Aboard', figsize=(10,2))"
   ]
  },
  {
   "cell_type": "markdown",
   "id": "5907db46",
   "metadata": {},
   "source": [
    "Convert number of passengers (Aboard) to [0,1]"
   ]
  },
  {
   "cell_type": "code",
   "execution_count": 28,
   "id": "8e1f65a2",
   "metadata": {},
   "outputs": [],
   "source": [
    "scaler = MinMaxScaler(clip=True)\n",
    "\n",
    "scaler.fit(crashes[crashes.Aboard < 100].Aboard.values.reshape(-1, 1))\n",
    "crashes['Aboard_scaled'] = scaler.transform(crashes.Aboard.values.reshape(-1, 1))"
   ]
  },
  {
   "cell_type": "code",
   "execution_count": 29,
   "id": "4c46b6f2",
   "metadata": {
    "scrolled": true
   },
   "outputs": [
    {
     "data": {
      "text/plain": [
       "<AxesSubplot:>"
      ]
     },
     "execution_count": 29,
     "metadata": {},
     "output_type": "execute_result"
    },
    {
     "data": {
      "image/png": "[encoded data removed]",
      "text/plain": [
       "<Figure size 100x300 with 1 Axes>"
      ]
     },
     "metadata": {},
     "output_type": "display_data"
    }
   ],
   "source": [
    "crashes.boxplot(['Aboard_scaled'], figsize=(1,3))"
   ]
  },
  {
   "cell_type": "markdown",
   "id": "f8754b00",
   "metadata": {},
   "source": [
    "# 3. Reviewing the summary column"
   ]
  },
  {
   "cell_type": "code",
   "execution_count": 30,
   "id": "7cf1750a",
   "metadata": {
    "scrolled": true
   },
   "outputs": [
    {
     "data": {
      "text/plain": [
       "Fire / explosion        424\n",
       "Land / take off         380\n",
       "Engine failure (v3)     359\n",
       "Cargo (plane)           356\n",
       "Engine failure (v2)     356\n",
       "En route / Mountains    338\n",
       "Pilot error             307\n",
       "Crash                   305\n",
       "Engine failure          288\n",
       "Landing attempt         242\n",
       "Weather / landing       225\n",
       "Crashed into sea        219\n",
       "Weather conditions      210\n",
       "Fog                     204\n",
       "Midair collision        133\n",
       "Disappeared en route    125\n",
       "Shot down               118\n",
       "Helicopter              118\n",
       "Mountains                82\n",
       "Mail plane               42\n",
       "Name: Summary_Cluster_name, dtype: int64"
      ]
     },
     "execution_count": 30,
     "metadata": {},
     "output_type": "execute_result"
    }
   ],
   "source": [
    "crashes.Summary_Cluster_name.value_counts()"
   ]
  },
  {
   "cell_type": "code",
   "execution_count": 31,
   "id": "f33a19b9",
   "metadata": {},
   "outputs": [
    {
     "data": {
      "text/html": [
       "<div>\n",
       "<style scoped>\n",
       "    .dataframe tbody tr th:only-of-type {\n",
       "        vertical-align: middle;\n",
       "    }\n",
       "\n",
       "    .dataframe tbody tr th {\n",
       "        vertical-align: top;\n",
       "    }\n",
       "\n",
       "    .dataframe thead th {\n",
       "        text-align: right;\n",
       "    }\n",
       "</style>\n",
       "<table border=\"1\" class=\"dataframe\">\n",
       "  <thead>\n",
       "    <tr style=\"text-align: right;\">\n",
       "      <th></th>\n",
       "      <th>Summary_Cluster_name</th>\n",
       "      <th>Aboard_scaled</th>\n",
       "      <th>mortality</th>\n",
       "      <th>is_military</th>\n",
       "      <th>Aboard_scaled_diff</th>\n",
       "      <th>mortality_diff</th>\n",
       "      <th>is_military_diff</th>\n",
       "    </tr>\n",
       "  </thead>\n",
       "  <tbody>\n",
       "    <tr>\n",
       "      <th>0</th>\n",
       "      <td>Cargo (plane)</td>\n",
       "      <td>0.067189</td>\n",
       "      <td>0.901826</td>\n",
       "      <td>0.019663</td>\n",
       "      <td>-0.19</td>\n",
       "      <td>0.07</td>\n",
       "      <td>-0.13</td>\n",
       "    </tr>\n",
       "    <tr>\n",
       "      <th>1</th>\n",
       "      <td>Crash</td>\n",
       "      <td>0.354694</td>\n",
       "      <td>0.833836</td>\n",
       "      <td>0.167213</td>\n",
       "      <td>0.10</td>\n",
       "      <td>0.01</td>\n",
       "      <td>0.01</td>\n",
       "    </tr>\n",
       "    <tr>\n",
       "      <th>2</th>\n",
       "      <td>Crashed into sea</td>\n",
       "      <td>0.201974</td>\n",
       "      <td>0.854612</td>\n",
       "      <td>0.187215</td>\n",
       "      <td>-0.05</td>\n",
       "      <td>0.03</td>\n",
       "      <td>0.03</td>\n",
       "    </tr>\n",
       "    <tr>\n",
       "      <th>3</th>\n",
       "      <td>Disappeared en route</td>\n",
       "      <td>0.205657</td>\n",
       "      <td>0.982320</td>\n",
       "      <td>0.288000</td>\n",
       "      <td>-0.05</td>\n",
       "      <td>0.15</td>\n",
       "      <td>0.14</td>\n",
       "    </tr>\n",
       "    <tr>\n",
       "      <th>4</th>\n",
       "      <td>En route / Mountains</td>\n",
       "      <td>0.195236</td>\n",
       "      <td>0.933284</td>\n",
       "      <td>0.162722</td>\n",
       "      <td>-0.06</td>\n",
       "      <td>0.10</td>\n",
       "      <td>0.01</td>\n",
       "    </tr>\n",
       "    <tr>\n",
       "      <th>5</th>\n",
       "      <td>Engine failure</td>\n",
       "      <td>0.199670</td>\n",
       "      <td>0.834826</td>\n",
       "      <td>0.204861</td>\n",
       "      <td>-0.05</td>\n",
       "      <td>0.01</td>\n",
       "      <td>0.05</td>\n",
       "    </tr>\n",
       "    <tr>\n",
       "      <th>6</th>\n",
       "      <td>Engine failure (v2)</td>\n",
       "      <td>0.312025</td>\n",
       "      <td>0.654944</td>\n",
       "      <td>0.084270</td>\n",
       "      <td>0.06</td>\n",
       "      <td>-0.17</td>\n",
       "      <td>-0.07</td>\n",
       "    </tr>\n",
       "    <tr>\n",
       "      <th>7</th>\n",
       "      <td>Engine failure (v3)</td>\n",
       "      <td>0.256352</td>\n",
       "      <td>0.786045</td>\n",
       "      <td>0.058496</td>\n",
       "      <td>0.00</td>\n",
       "      <td>-0.04</td>\n",
       "      <td>-0.09</td>\n",
       "    </tr>\n",
       "    <tr>\n",
       "      <th>8</th>\n",
       "      <td>Fire / explosion</td>\n",
       "      <td>0.395131</td>\n",
       "      <td>0.743986</td>\n",
       "      <td>0.205189</td>\n",
       "      <td>0.14</td>\n",
       "      <td>-0.08</td>\n",
       "      <td>0.05</td>\n",
       "    </tr>\n",
       "    <tr>\n",
       "      <th>9</th>\n",
       "      <td>Fog</td>\n",
       "      <td>0.259061</td>\n",
       "      <td>0.807059</td>\n",
       "      <td>0.063725</td>\n",
       "      <td>0.01</td>\n",
       "      <td>-0.02</td>\n",
       "      <td>-0.09</td>\n",
       "    </tr>\n",
       "    <tr>\n",
       "      <th>10</th>\n",
       "      <td>Helicopter</td>\n",
       "      <td>0.141585</td>\n",
       "      <td>0.860169</td>\n",
       "      <td>0.296610</td>\n",
       "      <td>-0.11</td>\n",
       "      <td>0.03</td>\n",
       "      <td>0.14</td>\n",
       "    </tr>\n",
       "    <tr>\n",
       "      <th>11</th>\n",
       "      <td>Land / take off</td>\n",
       "      <td>0.297315</td>\n",
       "      <td>0.947053</td>\n",
       "      <td>0.150000</td>\n",
       "      <td>0.05</td>\n",
       "      <td>0.12</td>\n",
       "      <td>-0.00</td>\n",
       "    </tr>\n",
       "    <tr>\n",
       "      <th>12</th>\n",
       "      <td>Landing attempt</td>\n",
       "      <td>0.365890</td>\n",
       "      <td>0.617025</td>\n",
       "      <td>0.070248</td>\n",
       "      <td>0.11</td>\n",
       "      <td>-0.21</td>\n",
       "      <td>-0.08</td>\n",
       "    </tr>\n",
       "    <tr>\n",
       "      <th>13</th>\n",
       "      <td>Mail plane</td>\n",
       "      <td>0.028139</td>\n",
       "      <td>0.915952</td>\n",
       "      <td>0.000000</td>\n",
       "      <td>-0.22</td>\n",
       "      <td>0.09</td>\n",
       "      <td>-0.15</td>\n",
       "    </tr>\n",
       "    <tr>\n",
       "      <th>14</th>\n",
       "      <td>Midair collision</td>\n",
       "      <td>0.337359</td>\n",
       "      <td>0.837444</td>\n",
       "      <td>0.458647</td>\n",
       "      <td>0.09</td>\n",
       "      <td>0.01</td>\n",
       "      <td>0.31</td>\n",
       "    </tr>\n",
       "    <tr>\n",
       "      <th>15</th>\n",
       "      <td>Mountains</td>\n",
       "      <td>0.154964</td>\n",
       "      <td>0.950000</td>\n",
       "      <td>0.402439</td>\n",
       "      <td>-0.10</td>\n",
       "      <td>0.12</td>\n",
       "      <td>0.25</td>\n",
       "    </tr>\n",
       "    <tr>\n",
       "      <th>16</th>\n",
       "      <td>Pilot error</td>\n",
       "      <td>0.285757</td>\n",
       "      <td>0.770554</td>\n",
       "      <td>0.029316</td>\n",
       "      <td>0.03</td>\n",
       "      <td>-0.06</td>\n",
       "      <td>-0.12</td>\n",
       "    </tr>\n",
       "    <tr>\n",
       "      <th>17</th>\n",
       "      <td>Shot down</td>\n",
       "      <td>0.303715</td>\n",
       "      <td>0.948729</td>\n",
       "      <td>0.491525</td>\n",
       "      <td>0.05</td>\n",
       "      <td>0.12</td>\n",
       "      <td>0.34</td>\n",
       "    </tr>\n",
       "    <tr>\n",
       "      <th>18</th>\n",
       "      <td>Weather / landing</td>\n",
       "      <td>0.208305</td>\n",
       "      <td>0.851867</td>\n",
       "      <td>0.284444</td>\n",
       "      <td>-0.04</td>\n",
       "      <td>0.02</td>\n",
       "      <td>0.13</td>\n",
       "    </tr>\n",
       "    <tr>\n",
       "      <th>19</th>\n",
       "      <td>Weather conditions</td>\n",
       "      <td>0.105339</td>\n",
       "      <td>0.888333</td>\n",
       "      <td>0.023810</td>\n",
       "      <td>-0.15</td>\n",
       "      <td>0.06</td>\n",
       "      <td>-0.13</td>\n",
       "    </tr>\n",
       "    <tr>\n",
       "      <th>20</th>\n",
       "      <td>mean</td>\n",
       "      <td>0.252241</td>\n",
       "      <td>0.828363</td>\n",
       "      <td>0.152970</td>\n",
       "      <td>0.00</td>\n",
       "      <td>0.00</td>\n",
       "      <td>0.00</td>\n",
       "    </tr>\n",
       "  </tbody>\n",
       "</table>\n",
       "</div>"
      ],
      "text/plain": [
       "    Summary_Cluster_name  Aboard_scaled  mortality  is_military  \\\n",
       "0          Cargo (plane)       0.067189   0.901826     0.019663   \n",
       "1                  Crash       0.354694   0.833836     0.167213   \n",
       "2       Crashed into sea       0.201974   0.854612     0.187215   \n",
       "3   Disappeared en route       0.205657   0.982320     0.288000   \n",
       "4   En route / Mountains       0.195236   0.933284     0.162722   \n",
       "5         Engine failure       0.199670   0.834826     0.204861   \n",
       "6    Engine failure (v2)       0.312025   0.654944     0.084270   \n",
       "7    Engine failure (v3)       0.256352   0.786045     0.058496   \n",
       "8       Fire / explosion       0.395131   0.743986     0.205189   \n",
       "9                    Fog       0.259061   0.807059     0.063725   \n",
       "10            Helicopter       0.141585   0.860169     0.296610   \n",
       "11       Land / take off       0.297315   0.947053     0.150000   \n",
       "12       Landing attempt       0.365890   0.617025     0.070248   \n",
       "13            Mail plane       0.028139   0.915952     0.000000   \n",
       "14      Midair collision       0.337359   0.837444     0.458647   \n",
       "15             Mountains       0.154964   0.950000     0.402439   \n",
       "16           Pilot error       0.285757   0.770554     0.029316   \n",
       "17             Shot down       0.303715   0.948729     0.491525   \n",
       "18     Weather / landing       0.208305   0.851867     0.284444   \n",
       "19    Weather conditions       0.105339   0.888333     0.023810   \n",
       "20                  mean       0.252241   0.828363     0.152970   \n",
       "\n",
       "    Aboard_scaled_diff  mortality_diff  is_military_diff  \n",
       "0                -0.19            0.07             -0.13  \n",
       "1                 0.10            0.01              0.01  \n",
       "2                -0.05            0.03              0.03  \n",
       "3                -0.05            0.15              0.14  \n",
       "4                -0.06            0.10              0.01  \n",
       "5                -0.05            0.01              0.05  \n",
       "6                 0.06           -0.17             -0.07  \n",
       "7                 0.00           -0.04             -0.09  \n",
       "8                 0.14           -0.08              0.05  \n",
       "9                 0.01           -0.02             -0.09  \n",
       "10               -0.11            0.03              0.14  \n",
       "11                0.05            0.12             -0.00  \n",
       "12                0.11           -0.21             -0.08  \n",
       "13               -0.22            0.09             -0.15  \n",
       "14                0.09            0.01              0.31  \n",
       "15               -0.10            0.12              0.25  \n",
       "16                0.03           -0.06             -0.12  \n",
       "17                0.05            0.12              0.34  \n",
       "18               -0.04            0.02              0.13  \n",
       "19               -0.15            0.06             -0.13  \n",
       "20                0.00            0.00              0.00  "
      ]
     },
     "execution_count": 31,
     "metadata": {},
     "output_type": "execute_result"
    }
   ],
   "source": [
    "cluster_stats = crashes.groupby('Summary_Cluster_name') \\\n",
    "                       .agg({\"Aboard_scaled\": np.mean,\n",
    "                             \"mortality\": np.mean,\n",
    "                             \"is_military\": np.mean,\n",
    "                            }) \\\n",
    "                       .reset_index(drop=False)\n",
    "\n",
    "mean_stats = crashes.agg({\"Aboard_scaled\": [np.mean],\n",
    "                          \"mortality\": [np.mean],\n",
    "                          \"is_military\": [np.mean],\n",
    "                         }) \\\n",
    "                    .reset_index(drop=False) \\\n",
    "                    .rename(columns={\"index\": \"Summary_Cluster_name\"})\n",
    "\n",
    "cluster_stats = pd.concat([cluster_stats, mean_stats], ignore_index=True)\n",
    "cluster_stats['Aboard_scaled_diff'] = (cluster_stats.Aboard_scaled - crashes.Aboard_scaled.mean()).round(2)\n",
    "cluster_stats['mortality_diff'] = (cluster_stats.mortality - crashes.mortality.mean()).round(2)\n",
    "cluster_stats['is_military_diff'] = (cluster_stats.is_military - crashes.is_military.mean()).round(2)\n",
    "cluster_stats"
   ]
  },
  {
   "cell_type": "markdown",
   "id": "3f9c363f",
   "metadata": {},
   "source": [
    "Выводы:\n",
    "- В кластерах **Cargo (plane)**, **Mail plane**, **Helicopter** во время полетов было относительно мало пассажиров, потому что это \"малые\" средства полета.\n",
    "- В кластерах **Mountains** и **Weather conditions** тоже было мало пассажиров. Возможно проблемы с погодными условиями чаще встречаются среди малых самолетов, потому что их полеты не так хорошо регламентированы.\n",
    "- Относительно высокая смертность встречается в кластерах **Disappeared en route**, **En route / Mountains**, **Mountains**, **Shot down**. К сожалению, это подтверждает интуицию: в таких случаях действительно гораздо сложнее выжить.\n",
    "- Военный транспорт чаще встречается в кластерах **Disappeared en route**, **Helicopter**, **Midair collision**, **Mountains**, **Shot down**. \n",
    "- Военный транспорт реже встречается в кластерах **Cargo (plane)**, **Mail plane**, **Pilot error**. С первыми двумя понятно, но интересно последнее: наверно в военных самолетах очень опытные пилоты, а основные причины ЧП связаны с внешними факторами."
   ]
  },
  {
   "cell_type": "markdown",
   "id": "0af75935",
   "metadata": {},
   "source": [
    "Из даты не удалось выжать ничего интересного:"
   ]
  },
  {
   "cell_type": "code",
   "execution_count": 32,
   "id": "34882aa2",
   "metadata": {},
   "outputs": [],
   "source": [
    "# cluster_stats = crashes.groupby('Summary_Cluster_name') \\\n",
    "#                        .agg({\"Date_is_weekend\": np.mean,\n",
    "#                             }) \\\n",
    "#                        .reset_index(drop=False)\n",
    "\n",
    "# mean_stats = crashes.agg({\"Date_is_weekend\": [np.mean],\n",
    "#                          }) \\\n",
    "#                     .reset_index(drop=False) \\\n",
    "#                     .rename(columns={\"index\": \"Summary_Cluster_name\"})\n",
    "\n",
    "# cluster_stats = pd.concat([cluster_stats, mean_stats], ignore_index=True)\n",
    "# cluster_stats['is_weekend_diff'] = (cluster_stats.Date_is_weekend - crashes.Date_is_weekend.mean()).round(2)\n",
    "# cluster_stats"
   ]
  },
  {
   "cell_type": "markdown",
   "id": "8b15196b",
   "metadata": {},
   "source": [
    "One-hot encode summary clusters"
   ]
  },
  {
   "cell_type": "code",
   "execution_count": 33,
   "id": "eb2ec06c",
   "metadata": {},
   "outputs": [
    {
     "data": {
      "text/html": [
       "<div>\n",
       "<style scoped>\n",
       "    .dataframe tbody tr th:only-of-type {\n",
       "        vertical-align: middle;\n",
       "    }\n",
       "\n",
       "    .dataframe tbody tr th {\n",
       "        vertical-align: top;\n",
       "    }\n",
       "\n",
       "    .dataframe thead th {\n",
       "        text-align: right;\n",
       "    }\n",
       "</style>\n",
       "<table border=\"1\" class=\"dataframe\">\n",
       "  <thead>\n",
       "    <tr style=\"text-align: right;\">\n",
       "      <th></th>\n",
       "      <th>Date</th>\n",
       "      <th>Location</th>\n",
       "      <th>Operator</th>\n",
       "      <th>Type</th>\n",
       "      <th>Aboard</th>\n",
       "      <th>Fatalities</th>\n",
       "      <th>Ground</th>\n",
       "      <th>Summary</th>\n",
       "      <th>Summary_Cluster</th>\n",
       "      <th>Summary_Cluster_name</th>\n",
       "      <th>...</th>\n",
       "      <th>Helicopter</th>\n",
       "      <th>Land / take off</th>\n",
       "      <th>Landing attempt</th>\n",
       "      <th>Mail plane</th>\n",
       "      <th>Midair collision</th>\n",
       "      <th>Mountains</th>\n",
       "      <th>Pilot error</th>\n",
       "      <th>Shot down</th>\n",
       "      <th>Weather / landing</th>\n",
       "      <th>Weather conditions</th>\n",
       "    </tr>\n",
       "  </thead>\n",
       "  <tbody>\n",
       "    <tr>\n",
       "      <th>4830</th>\n",
       "      <td>2009-06-08</td>\n",
       "      <td>State of Arunachal Pradesh, India</td>\n",
       "      <td>military - indian air force</td>\n",
       "      <td>antonov an-32</td>\n",
       "      <td>13.0</td>\n",
       "      <td>13.0</td>\n",
       "      <td>0.0</td>\n",
       "      <td>The military transport went missing while en route and might have crashed due to heavy rain in the mountainous region.</td>\n",
       "      <td>15</td>\n",
       "      <td>Disappeared en route</td>\n",
       "      <td>...</td>\n",
       "      <td>0.0</td>\n",
       "      <td>0.0</td>\n",
       "      <td>0.0</td>\n",
       "      <td>0.0</td>\n",
       "      <td>0.0</td>\n",
       "      <td>0.0</td>\n",
       "      <td>0.0</td>\n",
       "      <td>0.0</td>\n",
       "      <td>0.0</td>\n",
       "      <td>0.0</td>\n",
       "    </tr>\n",
       "  </tbody>\n",
       "</table>\n",
       "<p>1 rows × 38 columns</p>\n",
       "</div>"
      ],
      "text/plain": [
       "           Date                           Location  \\\n",
       "4830 2009-06-08  State of Arunachal Pradesh, India   \n",
       "\n",
       "                         Operator           Type  Aboard  Fatalities  Ground  \\\n",
       "4830  military - indian air force  antonov an-32    13.0        13.0     0.0   \n",
       "\n",
       "                                                                                                                     Summary  \\\n",
       "4830  The military transport went missing while en route and might have crashed due to heavy rain in the mountainous region.   \n",
       "\n",
       "      Summary_Cluster  Summary_Cluster_name  ...  Helicopter  Land / take off  \\\n",
       "4830               15  Disappeared en route  ...         0.0              0.0   \n",
       "\n",
       "     Landing attempt  Mail plane Midair collision Mountains  Pilot error  \\\n",
       "4830             0.0         0.0              0.0       0.0          0.0   \n",
       "\n",
       "      Shot down  Weather / landing  Weather conditions  \n",
       "4830        0.0                0.0                 0.0  \n",
       "\n",
       "[1 rows x 38 columns]"
      ]
     },
     "execution_count": 33,
     "metadata": {},
     "output_type": "execute_result"
    }
   ],
   "source": [
    "one_hot_encoder = OneHotEncoder(handle_unknown='ignore', sparse=False)\n",
    "summary_cluster_encoded = one_hot_encoder.fit_transform(crashes['Summary_Cluster_name'].values.reshape(-1,1))\n",
    "summary_cluster_encoded_df = pd.DataFrame(summary_cluster_encoded, columns=one_hot_encoder.categories_[0])\n",
    "crashes = crashes.join(summary_cluster_encoded_df)\n",
    "crashes.tail(1)"
   ]
  },
  {
   "cell_type": "markdown",
   "id": "319c2b79",
   "metadata": {},
   "source": [
    "# 4. Clusterize"
   ]
  },
  {
   "cell_type": "code",
   "execution_count": 34,
   "id": "c640701f",
   "metadata": {},
   "outputs": [],
   "source": [
    "def get_cluster_stats(df: pd.DataFrame, summary_cluster: bool = False):\n",
    "    cluster_stats = df.groupby('cluster') \\\n",
    "                      .agg({\"mortality\": np.mean,\n",
    "                            \"is_military\": np.mean,\n",
    "                            \"series_encoded\": np.mean,\n",
    "                            \"operator_encoded\": np.mean,\n",
    "                            \"Aboard_scaled\": np.mean})\n",
    "    return cluster_stats\n",
    "\n",
    "\n",
    "def create_cluster_name(row):\n",
    "    stats_name = [f\"mor_{round(row.mortality, 1)}\",\n",
    "                  f\"mil_{round(row.is_military, 1)}\",\n",
    "                  f\"ser_{round(row.series_encoded, 1)}\",\n",
    "                  f\"op_{round(row.operator_encoded, 1)}\",\n",
    "                  f\"ab_{round(row.Aboard_scaled, 1)}\"\n",
    "                 ]\n",
    "    return \"/\".join(stats_name)\n",
    "\n",
    "\n",
    "def get_cluster_names(df: pd.DataFrame, clusters, summary_cluster: bool = False):\n",
    "    df_1 = df.copy()\n",
    "    df_1['cluster'] = clusters\n",
    "    cluster_stats = get_cluster_stats(df_1, summary_cluster)\n",
    "    cluster_stats['cluster_name'] = cluster_stats.apply(lambda row: create_cluster_name(row), axis=1)\n",
    "    return cluster_stats['cluster_name'].to_dict()"
   ]
  },
  {
   "cell_type": "code",
   "execution_count": 35,
   "id": "c4489e03",
   "metadata": {},
   "outputs": [],
   "source": [
    "def plot_clusters(reduced_embeddings, clusters, cluster_names):\n",
    "    fig, ax = plt.subplots()\n",
    "\n",
    "    scatter = ax.scatter(reduced_embeddings[:, 0], reduced_embeddings[:, 1], c=clusters, s=0.1, cmap='Spectral')\n",
    "    legend1 = ax.legend(scatter.legend_elements()[0], cluster_names.values(), \n",
    "                        loc=\"best\", fontsize=10, bbox_to_anchor=(1.0, 1.00))\n",
    "    ax.add_artist(legend1)\n",
    "\n",
    "    plt.show()"
   ]
  },
  {
   "cell_type": "markdown",
   "id": "71687f24",
   "metadata": {},
   "source": [
    "## v1 No summary info"
   ]
  },
  {
   "cell_type": "code",
   "execution_count": 36,
   "id": "47087205",
   "metadata": {},
   "outputs": [],
   "source": [
    "cols_to_cluster_1 = ['mortality', 'is_military', 'series_encoded', 'operator_encoded', 'Aboard_scaled']\n",
    "cols_to_show_1 = cols_to_cluster_1"
   ]
  },
  {
   "cell_type": "code",
   "execution_count": 37,
   "id": "b520c33e",
   "metadata": {},
   "outputs": [
    {
     "data": {
      "text/html": [
       "<div>\n",
       "<style scoped>\n",
       "    .dataframe tbody tr th:only-of-type {\n",
       "        vertical-align: middle;\n",
       "    }\n",
       "\n",
       "    .dataframe tbody tr th {\n",
       "        vertical-align: top;\n",
       "    }\n",
       "\n",
       "    .dataframe thead th {\n",
       "        text-align: right;\n",
       "    }\n",
       "</style>\n",
       "<table border=\"1\" class=\"dataframe\">\n",
       "  <thead>\n",
       "    <tr style=\"text-align: right;\">\n",
       "      <th></th>\n",
       "      <th>mortality</th>\n",
       "      <th>is_military</th>\n",
       "      <th>series_encoded</th>\n",
       "      <th>operator_encoded</th>\n",
       "      <th>Aboard_scaled</th>\n",
       "    </tr>\n",
       "  </thead>\n",
       "  <tbody>\n",
       "    <tr>\n",
       "      <th>4830</th>\n",
       "      <td>1.0</td>\n",
       "      <td>True</td>\n",
       "      <td>0.453988</td>\n",
       "      <td>0.520833</td>\n",
       "      <td>0.131313</td>\n",
       "    </tr>\n",
       "  </tbody>\n",
       "</table>\n",
       "</div>"
      ],
      "text/plain": [
       "      mortality  is_military  series_encoded  operator_encoded  Aboard_scaled\n",
       "4830        1.0         True        0.453988          0.520833       0.131313"
      ]
     },
     "execution_count": 37,
     "metadata": {},
     "output_type": "execute_result"
    }
   ],
   "source": [
    "crashes_cluster_1 = crashes[cols_to_cluster_1]\n",
    "crashes_cluster_1.tail(1)"
   ]
  },
  {
   "cell_type": "code",
   "execution_count": 38,
   "id": "9dbe9aac",
   "metadata": {},
   "outputs": [
    {
     "data": {
      "text/plain": [
       "0.6594907886565928"
      ]
     },
     "execution_count": 38,
     "metadata": {},
     "output_type": "execute_result"
    }
   ],
   "source": [
    "len(crashes_cluster_1[crashes_cluster_1.mortality == 1]) / len(crashes_cluster_1)"
   ]
  },
  {
   "cell_type": "code",
   "execution_count": 39,
   "id": "f2027051",
   "metadata": {},
   "outputs": [
    {
     "data": {
      "text/plain": [
       "0.013040778306768785"
      ]
     },
     "execution_count": 39,
     "metadata": {},
     "output_type": "execute_result"
    }
   ],
   "source": [
    "len(crashes_cluster_1[crashes_cluster_1.mortality == 0]) / len(crashes_cluster_1)"
   ]
  },
  {
   "cell_type": "markdown",
   "id": "9e29cb31",
   "metadata": {},
   "source": [
    "### Cluster"
   ]
  },
  {
   "cell_type": "code",
   "execution_count": 40,
   "id": "0ebf35e0",
   "metadata": {},
   "outputs": [
    {
     "name": "stdout",
     "output_type": "stream",
     "text": [
      "Total clusters: 5\n",
      "Clustered: 1.0000\n",
      "Silhouette: 0.3730\n"
     ]
    }
   ],
   "source": [
    "hdbscan_model = HDBSCAN(min_cluster_size=80, min_samples=1, prediction_data=False)\n",
    "clusters_hdbscan_1 = hdbscan_model.fit_predict(crashes_cluster_1)\n",
    "\n",
    "clusters_hdbscan_1_names = get_cluster_names(crashes_cluster_1, clusters_hdbscan_1)\n",
    "clusters_hdbscan_1_names[-1] = -1\n",
    "\n",
    "clustered = (clusters_hdbscan_1 >= 0)\n",
    "print(f\"Total clusters: {len(set(clusters_hdbscan_1))}\")\n",
    "print(f\"Clustered: {(np.sum(clustered) / len(clusters_hdbscan_1)):.4f}\")\n",
    "print(f\"Silhouette: {silhouette_score(crashes_cluster_1, clusters_hdbscan_1):.4f}\")"
   ]
  },
  {
   "cell_type": "code",
   "execution_count": 41,
   "id": "b122da94",
   "metadata": {
    "scrolled": true
   },
   "outputs": [],
   "source": [
    "# min_cluster_size=50, min_samples=10\n",
    "# Total clusters: 7\n",
    "# Clustered: 0.9932\n",
    "# Silhouette: 0.3566\n",
    "\n",
    "# min_cluster_size=80, min_samples=10\n",
    "# Total clusters: 6\n",
    "# Clustered: 0.9936\n",
    "# Silhouette: 0.3693\n",
    "\n",
    "# min_cluster_size=80, min_samples=5\n",
    "# Total clusters: 6\n",
    "# Clustered: 0.9983\n",
    "# Silhouette: 0.3707\n",
    "\n",
    "# min_cluster_size=30, min_samples=1\n",
    "# Total clusters: 10\n",
    "# Clustered: 0.9973\n",
    "# Silhouette: 0.3445\n",
    "\n",
    "# ============= BEST =============\n",
    "# min_cluster_size=50, min_samples=1\n",
    "# Total clusters: 6\n",
    "# Clustered: 1.0000\n",
    "# Silhouette: 0.3650\n",
    "\n",
    "\n",
    "# min_cluster_size=80, min_samples=1\n",
    "# Total clusters: 5\n",
    "# Clustered: 1.0000\n",
    "# Silhouette: 0.3730"
   ]
  },
  {
   "cell_type": "markdown",
   "id": "f6def0f3",
   "metadata": {},
   "source": [
    "### Visualize"
   ]
  },
  {
   "cell_type": "code",
   "execution_count": 55,
   "id": "20f58a43",
   "metadata": {},
   "outputs": [],
   "source": [
    "umap_encoder = UMAP(n_neighbors=100, n_components=2, min_dist=0.0, metric='euclidean', random_state=42)\n",
    "reduced_emb_1 = umap_encoder.fit_transform(crashes_cluster_1)"
   ]
  },
  {
   "cell_type": "code",
   "execution_count": 56,
   "id": "65580169",
   "metadata": {
    "scrolled": false
   },
   "outputs": [
    {
     "data": {
      "image/png": "[encoded data removed]",
      "text/plain": [
       "<Figure size 640x480 with 1 Axes>"
      ]
     },
     "metadata": {},
     "output_type": "display_data"
    }
   ],
   "source": [
    "plot_clusters(reduced_emb_1, clusters_hdbscan_1, clusters_hdbscan_1_names)"
   ]
  },
  {
   "cell_type": "markdown",
   "id": "e59eeb49",
   "metadata": {},
   "source": [
    "## v2 Cluster every summary cluster"
   ]
  },
  {
   "cell_type": "code",
   "execution_count": 57,
   "id": "687093bc",
   "metadata": {},
   "outputs": [],
   "source": [
    "cols_to_cluster_2 = ['mortality', 'is_military', 'series_encoded', 'operator_encoded', \n",
    "                   'Aboard_scaled', *one_hot_encoder.categories_[0]]\n",
    "cols_to_show_2 = ['mortality', 'is_military', 'series_encoded', 'operator_encoded', 'Aboard_scaled', 'Summary_Cluster_name']"
   ]
  },
  {
   "cell_type": "code",
   "execution_count": 58,
   "id": "5b3908a5",
   "metadata": {
    "scrolled": false
   },
   "outputs": [
    {
     "data": {
      "text/html": [
       "<div>\n",
       "<style scoped>\n",
       "    .dataframe tbody tr th:only-of-type {\n",
       "        vertical-align: middle;\n",
       "    }\n",
       "\n",
       "    .dataframe tbody tr th {\n",
       "        vertical-align: top;\n",
       "    }\n",
       "\n",
       "    .dataframe thead th {\n",
       "        text-align: right;\n",
       "    }\n",
       "</style>\n",
       "<table border=\"1\" class=\"dataframe\">\n",
       "  <thead>\n",
       "    <tr style=\"text-align: right;\">\n",
       "      <th></th>\n",
       "      <th>mortality</th>\n",
       "      <th>is_military</th>\n",
       "      <th>series_encoded</th>\n",
       "      <th>operator_encoded</th>\n",
       "      <th>Aboard_scaled</th>\n",
       "      <th>Cargo (plane)</th>\n",
       "      <th>Crash</th>\n",
       "      <th>Crashed into sea</th>\n",
       "      <th>Disappeared en route</th>\n",
       "      <th>En route / Mountains</th>\n",
       "      <th>...</th>\n",
       "      <th>Helicopter</th>\n",
       "      <th>Land / take off</th>\n",
       "      <th>Landing attempt</th>\n",
       "      <th>Mail plane</th>\n",
       "      <th>Midair collision</th>\n",
       "      <th>Mountains</th>\n",
       "      <th>Pilot error</th>\n",
       "      <th>Shot down</th>\n",
       "      <th>Weather / landing</th>\n",
       "      <th>Weather conditions</th>\n",
       "    </tr>\n",
       "  </thead>\n",
       "  <tbody>\n",
       "    <tr>\n",
       "      <th>4830</th>\n",
       "      <td>1.0</td>\n",
       "      <td>True</td>\n",
       "      <td>0.453988</td>\n",
       "      <td>0.520833</td>\n",
       "      <td>0.131313</td>\n",
       "      <td>0.0</td>\n",
       "      <td>0.0</td>\n",
       "      <td>0.0</td>\n",
       "      <td>1.0</td>\n",
       "      <td>0.0</td>\n",
       "      <td>...</td>\n",
       "      <td>0.0</td>\n",
       "      <td>0.0</td>\n",
       "      <td>0.0</td>\n",
       "      <td>0.0</td>\n",
       "      <td>0.0</td>\n",
       "      <td>0.0</td>\n",
       "      <td>0.0</td>\n",
       "      <td>0.0</td>\n",
       "      <td>0.0</td>\n",
       "      <td>0.0</td>\n",
       "    </tr>\n",
       "  </tbody>\n",
       "</table>\n",
       "<p>1 rows × 25 columns</p>\n",
       "</div>"
      ],
      "text/plain": [
       "      mortality  is_military  series_encoded  operator_encoded  Aboard_scaled  \\\n",
       "4830        1.0         True        0.453988          0.520833       0.131313   \n",
       "\n",
       "      Cargo (plane)  Crash  Crashed into sea  Disappeared en route  \\\n",
       "4830            0.0    0.0               0.0                   1.0   \n",
       "\n",
       "      En route / Mountains  ...  Helicopter  Land / take off  Landing attempt  \\\n",
       "4830                   0.0  ...         0.0              0.0              0.0   \n",
       "\n",
       "      Mail plane  Midair collision  Mountains  Pilot error  Shot down  \\\n",
       "4830         0.0               0.0        0.0          0.0        0.0   \n",
       "\n",
       "      Weather / landing  Weather conditions  \n",
       "4830                0.0                 0.0  \n",
       "\n",
       "[1 rows x 25 columns]"
      ]
     },
     "execution_count": 58,
     "metadata": {},
     "output_type": "execute_result"
    }
   ],
   "source": [
    "crashes_cluster_2 = crashes[cols_to_cluster_2]\n",
    "crashes_cluster_2.tail(1)"
   ]
  },
  {
   "cell_type": "markdown",
   "id": "7a525568",
   "metadata": {},
   "source": [
    "### Cluster"
   ]
  },
  {
   "cell_type": "code",
   "execution_count": 75,
   "id": "bce5b14e",
   "metadata": {},
   "outputs": [
    {
     "name": "stdout",
     "output_type": "stream",
     "text": [
      "Total clusters: 48\n",
      "Clustered: 0.9712\n",
      "Silhouette: 0.4411\n"
     ]
    }
   ],
   "source": [
    "hdbscan_model = HDBSCAN(min_cluster_size=32, min_samples=1, prediction_data=False)\n",
    "clusters_hdbscan_2 = hdbscan_model.fit_predict(crashes_cluster_2)\n",
    "\n",
    "clusters_hdbscan_2_names = get_cluster_names(crashes_cluster_2, clusters_hdbscan_2)\n",
    "clusters_hdbscan_2_names[-1] = -1\n",
    "\n",
    "clustered = (clusters_hdbscan_2 >= 0)\n",
    "print(f\"Total clusters: {len(set(clusters_hdbscan_2))}\")\n",
    "print(f\"Clustered: {(np.sum(clustered) / len(clusters_hdbscan_2)):.4f}\")\n",
    "print(f\"Silhouette: {silhouette_score(crashes_cluster_2, clusters_hdbscan_2):.4f}\")"
   ]
  },
  {
   "cell_type": "code",
   "execution_count": null,
   "id": "62b34e1d",
   "metadata": {},
   "outputs": [],
   "source": [
    "# min_cluster_size=80, min_samples=1\n",
    "# Total clusters: 27\n",
    "# Clustered: 0.9549\n",
    "# Silhouette: 0.4311\n",
    "\n",
    "# min_cluster_size=40, min_samples=1\n",
    "# Total clusters: 43\n",
    "# Clustered: 0.9725\n",
    "# Silhouette: 0.4347\n",
    "\n",
    "# min_cluster_size=35, min_samples=1\n",
    "# Total clusters: 46\n",
    "# Clustered: 0.9725\n",
    "# Silhouette: 0.4398\n",
    "\n",
    "# min_cluster_size=32, min_samples=1\n",
    "# Total clusters: 48\n",
    "# Clustered: 0.9712\n",
    "# Silhouette: 0.4411"
   ]
  },
  {
   "cell_type": "markdown",
   "id": "b96cef36",
   "metadata": {},
   "source": [
    "### Visualize"
   ]
  },
  {
   "cell_type": "code",
   "execution_count": 76,
   "id": "14ce10b3",
   "metadata": {},
   "outputs": [],
   "source": [
    "umap_encoder = UMAP(n_neighbors=100, n_components=2, min_dist=0.0, metric='cosine', random_state=42)\n",
    "reduced_emb_2 = umap_encoder.fit_transform(crashes_cluster_2)"
   ]
  },
  {
   "cell_type": "code",
   "execution_count": 77,
   "id": "fd0b4bf1",
   "metadata": {
    "scrolled": false
   },
   "outputs": [
    {
     "data": {
      "image/png": "[encoded data removed]",
      "text/plain": [
       "<Figure size 640x480 with 1 Axes>"
      ]
     },
     "metadata": {},
     "output_type": "display_data"
    }
   ],
   "source": [
    "plot_clusters(reduced_emb_2, clusters_hdbscan_2, clusters_hdbscan_2_names)"
   ]
  }
 ],
 "metadata": {
  "kernelspec": {
   "display_name": "Python 3 (ipykernel)",
   "language": "python",
   "name": "python3"
  },
  "language_info": {
   "codemirror_mode": {
    "name": "ipython",
    "version": 3
   },
   "file_extension": ".py",
   "mimetype": "text/x-python",
   "name": "python",
   "nbconvert_exporter": "python",
   "pygments_lexer": "ipython3",
   "version": "3.9.13"
  }
 },
 "nbformat": 4,
 "nbformat_minor": 5
}
